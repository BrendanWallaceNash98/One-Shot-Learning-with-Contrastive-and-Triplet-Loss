{
 "cells": [
  {
   "cell_type": "code",
   "execution_count": 1,
   "id": "dca5e952",
   "metadata": {},
   "outputs": [],
   "source": [
    "import pandas as pd\n",
    "import numpy as np\n",
    "import umap\n",
    "import random\n",
    "import matplotlib.pyplot as plt\n",
    "import tensorflow as tf\n",
    "from tensorflow.keras import backend as K\n",
    "import tensorflow_datasets as tfds\n",
    "from tensorflow.keras.models import Model\n",
    "from tensorflow.keras.layers import *"
   ]
  },
  {
   "cell_type": "code",
   "execution_count": 2,
   "id": "a1a1a213",
   "metadata": {},
   "outputs": [
    {
     "data": {
      "text/plain": [
       "tfds.core.DatasetInfo(\n",
       "    name='omniglot',\n",
       "    full_name='omniglot/3.0.0',\n",
       "    description=\"\"\"\n",
       "    Omniglot data set for one-shot learning. This dataset contains 1623 different\n",
       "    handwritten characters from 50 different alphabets.\n",
       "    \"\"\",\n",
       "    homepage='https://github.com/brendenlake/omniglot/',\n",
       "    data_path='/Users/brendanwallace-nash/tensorflow_datasets/omniglot/3.0.0',\n",
       "    download_size=17.95 MiB,\n",
       "    dataset_size=12.29 MiB,\n",
       "    features=FeaturesDict({\n",
       "        'alphabet': ClassLabel(shape=(), dtype=tf.int64, num_classes=50),\n",
       "        'alphabet_char_id': tf.int64,\n",
       "        'image': Image(shape=(105, 105, 3), dtype=tf.uint8),\n",
       "        'label': ClassLabel(shape=(), dtype=tf.int64, num_classes=1623),\n",
       "    }),\n",
       "    supervised_keys=('image', 'label'),\n",
       "    disable_shuffling=False,\n",
       "    splits={\n",
       "        'small1': <SplitInfo num_examples=2720, num_shards=1>,\n",
       "        'small2': <SplitInfo num_examples=3120, num_shards=1>,\n",
       "        'test': <SplitInfo num_examples=13180, num_shards=1>,\n",
       "        'train': <SplitInfo num_examples=19280, num_shards=1>,\n",
       "    },\n",
       "    citation=\"\"\"@article{lake2015human,\n",
       "      title={Human-level concept learning through probabilistic program induction},\n",
       "      author={Lake, Brenden M and Salakhutdinov, Ruslan and Tenenbaum, Joshua B},\n",
       "      journal={Science},\n",
       "      volume={350},\n",
       "      number={6266},\n",
       "      pages={1332--1338},\n",
       "      year={2015},\n",
       "      publisher={American Association for the Advancement of Science}\n",
       "    }\"\"\",\n",
       ")"
      ]
     },
     "execution_count": 2,
     "metadata": {},
     "output_type": "execute_result"
    }
   ],
   "source": [
    "ds, ds_info = tfds.load('omniglot', split=['train[:80%]','test'],with_info=True, as_supervised = False)\n",
    "ds_info"
   ]
  },
  {
   "cell_type": "code",
   "execution_count": 3,
   "id": "32239ef2",
   "metadata": {},
   "outputs": [],
   "source": [
    "train = tfds.as_dataframe(ds[0])\n",
    "test = tfds.as_dataframe(ds[1])"
   ]
  },
  {
   "cell_type": "code",
   "execution_count": 4,
   "id": "2978e827",
   "metadata": {},
   "outputs": [],
   "source": [
    "arrayAlph = train[\"alphabet\"].to_list()"
   ]
  },
  {
   "cell_type": "code",
   "execution_count": 5,
   "id": "289d370a",
   "metadata": {},
   "outputs": [],
   "source": [
    "uniqueAlph = list(set(arrayAlph))"
   ]
  },
  {
   "cell_type": "code",
   "execution_count": 6,
   "id": "7e6ef9cf",
   "metadata": {},
   "outputs": [],
   "source": [
    "arrayImage = train[\"image\"].to_list()"
   ]
  },
  {
   "cell_type": "code",
   "execution_count": 7,
   "id": "9fd49d9e",
   "metadata": {},
   "outputs": [],
   "source": [
    "y_test = test[\"alphabet\"].to_list()"
   ]
  },
  {
   "cell_type": "code",
   "execution_count": 8,
   "id": "d888906e",
   "metadata": {},
   "outputs": [],
   "source": [
    "x_test = test[\"image\"].to_list()"
   ]
  },
  {
   "cell_type": "code",
   "execution_count": 9,
   "id": "0f3f9dc0",
   "metadata": {},
   "outputs": [],
   "source": [
    "x_test = np.array(x_test)"
   ]
  },
  {
   "cell_type": "code",
   "execution_count": 10,
   "id": "4b3fbd27",
   "metadata": {},
   "outputs": [],
   "source": [
    "classes = []\n",
    "\n",
    "for i in uniqueAlph:\n",
    "    classes.append(i)"
   ]
  },
  {
   "cell_type": "code",
   "execution_count": 11,
   "id": "fe602912",
   "metadata": {},
   "outputs": [],
   "source": [
    "arrayImage = np.array(arrayImage)"
   ]
  },
  {
   "cell_type": "code",
   "execution_count": 12,
   "id": "87526e9d",
   "metadata": {},
   "outputs": [],
   "source": [
    "label = []\n",
    "tripletLitst = []\n",
    "imageL1 = arrayImage\n",
    "alphL1 = arrayAlph\n",
    "imageL2 = arrayImage.copy()\n",
    "alphL2 = arrayAlph.copy()\n",
    "imageL3 = arrayImage.copy()\n",
    "alphL3 = arrayAlph.copy()\n",
    "\n",
    "shuffleList1 = list(zip(imageL2, alphL2))\n",
    "random.shuffle(shuffleList1)\n",
    "imageL2, alphL2 = zip(*shuffleList1)\n",
    "\n",
    "shuffleList2 = list(zip(imageL3, alphL3))\n",
    "random.shuffle(shuffleList2)\n",
    "imageL3, alphL3 = zip(*shuffleList2)\n",
    "\n",
    "\n",
    "for i in range(len(imageL1)):\n",
    "    a = []\n",
    "    p = []\n",
    "    if alphL1[i] == alphL2[i]:\n",
    "        a.append(imageL1[i])\n",
    "        p.append(imageL2[i])\n",
    "        for x in range(len(imageL1)):\n",
    "            n = []\n",
    "            if alphL1[i] != alphL3[x]:\n",
    "                n.append(imageL3[x])\n",
    "                label.append(0)\n",
    "                tripletLitst.append([a, p, n])\n",
    "               "
   ]
  },
  {
   "cell_type": "code",
   "execution_count": 13,
   "id": "e9aa15f0",
   "metadata": {},
   "outputs": [],
   "source": [
    "testlabel = []\n",
    "testList = []\n",
    "imageL1 = arrayImage\n",
    "alphL1 = arrayAlph\n",
    "imageL2 = arrayImage.copy()\n",
    "alphL2 = arrayAlph.copy()\n",
    "imageL3 = arrayImage.copy()\n",
    "alphL3 = arrayAlph.copy()\n",
    "\n",
    "shuffleList1 = list(zip(imageL2, alphL2))\n",
    "random.shuffle(shuffleList1)\n",
    "imageL2, alphL2 = zip(*shuffleList1)\n",
    "\n",
    "shuffleList2 = list(zip(imageL3, alphL3))\n",
    "random.shuffle(shuffleList2)\n",
    "imageL3, alphL3 = zip(*shuffleList2)\n",
    "\n",
    "\n",
    "for i in range(len(imageL1)):\n",
    "    a = []\n",
    "    p = []\n",
    "    if alphL1[i] == alphL2[i]:\n",
    "        a.append(imageL1[i])\n",
    "        p.append(imageL2[i])\n",
    "        for x in range(len(imageL1)):\n",
    "            n = []\n",
    "            if alphL1[i] != alphL3[x]:\n",
    "                n.append(imageL3[x])\n",
    "                testlabel.append(0)\n",
    "                testList.append([a, p, n])\n",
    "                \n",
    "            elif alphL1[i] == alphL3[x]:\n",
    "                n.append(imageL3[x])\n",
    "                testlabel.append(1)\n",
    "                testList.append([a, p, n])\n",
    "               \n",
    "                \n",
    "                \n",
    "        \n"
   ]
  },
  {
   "cell_type": "code",
   "execution_count": 14,
   "id": "e6ea491f",
   "metadata": {},
   "outputs": [],
   "source": [
    "valuesTest, countsTest = np.unique(testlabel, return_counts=True)"
   ]
  },
  {
   "cell_type": "code",
   "execution_count": 15,
   "id": "e1591ebd",
   "metadata": {},
   "outputs": [],
   "source": [
    "tripletLitst = tripletLitst[:10000]\n",
    "label = label[:10000]\n",
    "lenX = round(len(tripletLitst)*0.20)\n",
    "lenY = round(len(label)*0.20)\n",
    "X_train = tripletLitst[lenX:]\n",
    "X_test = tripletLitst[lenX:]\n",
    "y_train = tripletLitst[:lenX]\n",
    "y_test = tripletLitst[:lenX]\n",
    "testList = testList[:2000]\n",
    "testlabel = testlabel[:2000]\n",
    "\n"
   ]
  },
  {
   "cell_type": "code",
   "execution_count": 16,
   "id": "ce8fa00d",
   "metadata": {},
   "outputs": [],
   "source": [
    "X_train = np.array(X_train)\n",
    "X_test = np.array(X_test)\n",
    "y_train = np.array(y_train)\n",
    "y_test = np.array(y_test)"
   ]
  },
  {
   "cell_type": "code",
   "execution_count": 17,
   "id": "18643cdf",
   "metadata": {},
   "outputs": [],
   "source": [
    "X_train = X_train.reshape(len(X_train), 3, 105, 105, 3)"
   ]
  },
  {
   "cell_type": "code",
   "execution_count": 18,
   "id": "bf38c6db",
   "metadata": {},
   "outputs": [],
   "source": [
    "y_train = y_train.reshape(len(y_train), 3, 105, 105, 3)"
   ]
  },
  {
   "cell_type": "code",
   "execution_count": 19,
   "id": "d295e7f1",
   "metadata": {},
   "outputs": [],
   "source": [
    "arrayAlph = np.array(arrayAlph)"
   ]
  },
  {
   "cell_type": "code",
   "execution_count": 20,
   "id": "45c1e195",
   "metadata": {},
   "outputs": [],
   "source": [
    "testList = np.array(testList)"
   ]
  },
  {
   "cell_type": "code",
   "execution_count": 21,
   "id": "a20ff3b4",
   "metadata": {},
   "outputs": [],
   "source": [
    "y_test = y_test[:10000]"
   ]
  },
  {
   "cell_type": "code",
   "execution_count": 22,
   "id": "3e403241",
   "metadata": {},
   "outputs": [],
   "source": [
    "arrayImage = np.array(arrayImage)"
   ]
  },
  {
   "cell_type": "code",
   "execution_count": 23,
   "id": "f640f6f5",
   "metadata": {},
   "outputs": [],
   "source": [
    "x_test = x_test[:10000]"
   ]
  },
  {
   "cell_type": "code",
   "execution_count": 24,
   "id": "396657ee",
   "metadata": {},
   "outputs": [],
   "source": [
    "def triplet_loss(y_true, y_pred):\n",
    "    anchor_out = y_pred[:, 0:100]\n",
    "    positive_out = y_pred[:, 100:200]\n",
    "    negative_out = y_pred[:, 200:300]\n",
    "    \n",
    "    pos_dist = K.sum(K.abs(anchor_out - positive_out), axis=1)\n",
    "    neg_dist = K.sum(K.abs(anchor_out - negative_out), axis=1)\n",
    "    \n",
    "    probs = K.softmax([pos_dist, neg_dist], axis=0)\n",
    "    \n",
    "    return K.mean(K.abs(probs[0]) + K.abs(1.0 - probs[1]))\n",
    "    "
   ]
  },
  {
   "cell_type": "code",
   "execution_count": 25,
   "id": "a96b5403",
   "metadata": {},
   "outputs": [],
   "source": [
    "tripletLitst = np.array(tripletLitst)"
   ]
  },
  {
   "cell_type": "code",
   "execution_count": 26,
   "id": "eafc7c59",
   "metadata": {},
   "outputs": [],
   "source": [
    "tripletLitst = tripletLitst.reshape(len(tripletLitst), 3, 105, 105, 3)"
   ]
  },
  {
   "cell_type": "code",
   "execution_count": 27,
   "id": "110d382a",
   "metadata": {},
   "outputs": [],
   "source": [
    "testList = testList.reshape(len(testList), 3, 105, 105, 3)"
   ]
  },
  {
   "cell_type": "code",
   "execution_count": 28,
   "id": "5014d29b",
   "metadata": {},
   "outputs": [],
   "source": [
    "x_test = np.array(x_test)"
   ]
  },
  {
   "cell_type": "code",
   "execution_count": 29,
   "id": "42f16099",
   "metadata": {},
   "outputs": [],
   "source": [
    "y_test = np.array(y_test)"
   ]
  },
  {
   "cell_type": "code",
   "execution_count": null,
   "id": "e95b2ec0",
   "metadata": {},
   "outputs": [],
   "source": [
    "x_test"
   ]
  },
  {
   "cell_type": "code",
   "execution_count": 30,
   "id": "d33a0270",
   "metadata": {},
   "outputs": [],
   "source": [
    "label = np.array(label)"
   ]
  },
  {
   "cell_type": "code",
   "execution_count": 31,
   "id": "d58a6cdd",
   "metadata": {},
   "outputs": [],
   "source": [
    "callback = tf.keras.callbacks.EarlyStopping(monitor='loss', patience=3)"
   ]
  },
  {
   "cell_type": "code",
   "execution_count": 32,
   "id": "e9cd9a27",
   "metadata": {},
   "outputs": [
    {
     "name": "stdout",
     "output_type": "stream",
     "text": [
      "Model: \"model\"\n",
      "_________________________________________________________________\n",
      "Layer (type)                 Output Shape              Param #   \n",
      "=================================================================\n",
      "input_1 (InputLayer)         [(None, 105, 105, 3)]     0         \n",
      "_________________________________________________________________\n",
      "conv2d (Conv2D)              (None, 103, 103, 32)      896       \n",
      "_________________________________________________________________\n",
      "conv2d_1 (Conv2D)            (None, 101, 101, 32)      9248      \n",
      "_________________________________________________________________\n",
      "max_pooling2d (MaxPooling2D) (None, 50, 50, 32)        0         \n",
      "_________________________________________________________________\n",
      "conv2d_2 (Conv2D)            (None, 48, 48, 64)        18496     \n",
      "_________________________________________________________________\n",
      "conv2d_3 (Conv2D)            (None, 46, 46, 64)        36928     \n",
      "_________________________________________________________________\n",
      "max_pooling2d_1 (MaxPooling2 (None, 23, 23, 64)        0         \n",
      "_________________________________________________________________\n",
      "conv2d_4 (Conv2D)            (None, 21, 21, 128)       73856     \n",
      "_________________________________________________________________\n",
      "flatten (Flatten)            (None, 56448)             0         \n",
      "_________________________________________________________________\n",
      "dense (Dense)                (None, 100)               5644900   \n",
      "=================================================================\n",
      "Total params: 5,784,324\n",
      "Trainable params: 5,784,324\n",
      "Non-trainable params: 0\n",
      "_________________________________________________________________\n"
     ]
    }
   ],
   "source": [
    "input_layer = Input((105, 105, 3))\n",
    "x = Conv2D(32, 3, activation='relu')(input_layer)\n",
    "x = Conv2D(32, 3, activation='relu')(x)\n",
    "x = MaxPool2D(2)(x)\n",
    "x = Conv2D(64, 3, activation='relu')(x)\n",
    "x = Conv2D(64, 3, activation='relu')(x)\n",
    "x = MaxPool2D(2)(x)\n",
    "x = Conv2D(128, 3, activation='relu')(x)\n",
    "x = Flatten()(x)\n",
    "x = Dense(100, activation='relu')(x)\n",
    "model = Model(input_layer, x)\n",
    "model.summary()\n"
   ]
  },
  {
   "cell_type": "code",
   "execution_count": 33,
   "id": "3e06d156",
   "metadata": {},
   "outputs": [
    {
     "name": "stdout",
     "output_type": "stream",
     "text": [
      "Model: \"model_1\"\n",
      "__________________________________________________________________________________________________\n",
      "Layer (type)                    Output Shape         Param #     Connected to                     \n",
      "==================================================================================================\n",
      "input_2 (InputLayer)            [(None, 105, 105, 3) 0                                            \n",
      "__________________________________________________________________________________________________\n",
      "input_3 (InputLayer)            [(None, 105, 105, 3) 0                                            \n",
      "__________________________________________________________________________________________________\n",
      "input_4 (InputLayer)            [(None, 105, 105, 3) 0                                            \n",
      "__________________________________________________________________________________________________\n",
      "model (Functional)              (None, 100)          5784324     input_2[0][0]                    \n",
      "                                                                 input_3[0][0]                    \n",
      "                                                                 input_4[0][0]                    \n",
      "__________________________________________________________________________________________________\n",
      "concatenate (Concatenate)       (None, 300)          0           model[0][0]                      \n",
      "                                                                 model[1][0]                      \n",
      "                                                                 model[2][0]                      \n",
      "==================================================================================================\n",
      "Total params: 5,784,324\n",
      "Trainable params: 5,784,324\n",
      "Non-trainable params: 0\n",
      "__________________________________________________________________________________________________\n"
     ]
    }
   ],
   "source": [
    "triplet_model_a = Input((105, 105, 3))\n",
    "triplet_model_p = Input((105, 105, 3))\n",
    "triplet_model_n = Input((105, 105, 3))\n",
    "triplet_model_out = Concatenate()([model(triplet_model_a), model(triplet_model_p), model(triplet_model_n)])\n",
    "triplet_model = Model([triplet_model_a, triplet_model_p, triplet_model_n], triplet_model_out)\n",
    "triplet_model.summary()"
   ]
  },
  {
   "cell_type": "code",
   "execution_count": 34,
   "id": "9f238881",
   "metadata": {},
   "outputs": [],
   "source": [
    "triplet_model.compile(loss=triplet_loss, optimizer='adam')"
   ]
  },
  {
   "cell_type": "code",
   "execution_count": 35,
   "id": "2ef16a8e",
   "metadata": {},
   "outputs": [
    {
     "name": "stdout",
     "output_type": "stream",
     "text": [
      "Epoch 1/40\n",
      "42/42 [==============================] - 64s 2s/step - loss: 0.8414 - val_loss: 0.1330\n",
      "Epoch 2/40\n",
      "42/42 [==============================] - 63s 2s/step - loss: 0.0945 - val_loss: 0.0420\n",
      "Epoch 3/40\n",
      "42/42 [==============================] - 72s 2s/step - loss: 0.1033 - val_loss: 0.2470\n",
      "Epoch 4/40\n",
      "42/42 [==============================] - 67s 2s/step - loss: 0.0105 - val_loss: 0.0060\n",
      "Epoch 5/40\n",
      "42/42 [==============================] - 67s 2s/step - loss: 0.0060 - val_loss: 0.0060\n",
      "Epoch 6/40\n",
      "42/42 [==============================] - 65s 2s/step - loss: 0.0060 - val_loss: 0.0060\n",
      "Epoch 7/40\n",
      "42/42 [==============================] - 63s 2s/step - loss: 0.0060 - val_loss: 0.0060\n",
      "Epoch 8/40\n",
      "42/42 [==============================] - 63s 1s/step - loss: 0.0060 - val_loss: 0.0060\n"
     ]
    }
   ],
   "source": [
    "history = triplet_model.fit([X_train[:,0],\n",
    "                   X_train[:,1], X_train[:,2]], \n",
    "                  X_test[:], validation_data=([y_train[:,0],\n",
    "                   y_train[:,1], y_train[:,2]], \n",
    "                  y_test[:]), batch_size = 192, epochs=40, callbacks=[callback])\n",
    "\n",
    "\n",
    "\n"
   ]
  },
  {
   "cell_type": "code",
   "execution_count": 36,
   "id": "cfe46af4",
   "metadata": {},
   "outputs": [
    {
     "data": {
      "text/plain": [
       "(3, 105, 105, 3)"
      ]
     },
     "execution_count": 36,
     "metadata": {},
     "output_type": "execute_result"
    }
   ],
   "source": [
    "tripletLitst[0].shape"
   ]
  },
  {
   "cell_type": "code",
   "execution_count": 37,
   "id": "af7f1a26",
   "metadata": {},
   "outputs": [
    {
     "data": {
      "image/png": "[encoded data removed]",
      "text/plain": [
       "<Figure size 640x480 with 1 Axes>"
      ]
     },
     "metadata": {},
     "output_type": "display_data"
    }
   ],
   "source": [
    "plt.plot(history.history['val_loss'], label='Validation Loss')\n",
    "plt.grid(True)\n",
    "plt.show()"
   ]
  },
  {
   "cell_type": "code",
   "execution_count": 38,
   "id": "ac3e18df",
   "metadata": {},
   "outputs": [
    {
     "data": {
      "image/png": "[encoded data removed]",
      "text/plain": [
       "<Figure size 640x480 with 1 Axes>"
      ]
     },
     "metadata": {},
     "output_type": "display_data"
    }
   ],
   "source": [
    "plt.plot(history.history['loss'], label='Loss')\n",
    "plt.grid(True)\n",
    "plt.show()"
   ]
  },
  {
   "cell_type": "code",
   "execution_count": 39,
   "id": "8c79c816",
   "metadata": {},
   "outputs": [],
   "source": [
    "def triplet_acc(imageTrips):\n",
    "    result = []\n",
    "    predictionP = triplet_model.layers[3].predict(imageTrips[:,1])\n",
    "    predictionN = triplet_model.layers[3].predict(imageTrips[:,2])\n",
    "    \n",
    "    for i in range(len(imageTrips)):\n",
    "        posDist = sum(predictionP[i])\n",
    "        negDist = sum(predictionN[i])\n",
    "        if posDist > negDist:\n",
    "            result.append(0)\n",
    "        if posDist < negDist:\n",
    "            result.append(1)\n",
    "    return result"
   ]
  },
  {
   "cell_type": "code",
   "execution_count": 40,
   "id": "4d06f545",
   "metadata": {},
   "outputs": [],
   "source": [
    "results = triplet_acc(tripletLitst)"
   ]
  },
  {
   "cell_type": "code",
   "execution_count": 41,
   "id": "f6cce30d",
   "metadata": {},
   "outputs": [],
   "source": [
    "resultsTest = triplet_acc(testList)"
   ]
  },
  {
   "cell_type": "code",
   "execution_count": 42,
   "id": "43da1497",
   "metadata": {},
   "outputs": [],
   "source": [
    "mixX = np.concatenate((testList[:1000], tripletLitst[:1000]))"
   ]
  },
  {
   "cell_type": "code",
   "execution_count": 43,
   "id": "3ca9afc4",
   "metadata": {},
   "outputs": [],
   "source": [
    "mixY = np.concatenate((testlabel[:1000], label[:1000]))"
   ]
  },
  {
   "cell_type": "code",
   "execution_count": 44,
   "id": "72260441",
   "metadata": {},
   "outputs": [],
   "source": [
    "resultsMix = triplet_acc(mixX)"
   ]
  },
  {
   "cell_type": "code",
   "execution_count": 45,
   "id": "771b64f7",
   "metadata": {},
   "outputs": [],
   "source": [
    "def get_acc(predY, trueY):\n",
    "    count = 0\n",
    "    for i in range(len(predY)):\n",
    "        if predY[i] == trueY[i]:\n",
    "            count = count+1\n",
    "        else:\n",
    "            pass\n",
    "    accuracy = (count/len(predY))*100\n",
    "    return accuracy \n",
    "            "
   ]
  },
  {
   "cell_type": "code",
   "execution_count": 46,
   "id": "53d028b2",
   "metadata": {},
   "outputs": [],
   "source": [
    "train_prediction_acc = get_acc(results, label)"
   ]
  },
  {
   "cell_type": "code",
   "execution_count": 47,
   "id": "88fc8141",
   "metadata": {},
   "outputs": [
    {
     "name": "stdout",
     "output_type": "stream",
     "text": [
      "Accuracy for triplet loss CNN on training data is 98.49%\n"
     ]
    }
   ],
   "source": [
    "print(\"Accuracy for triplet loss CNN on training data is {}%\".format(train_prediction_acc))"
   ]
  },
  {
   "cell_type": "code",
   "execution_count": 48,
   "id": "6bac4884",
   "metadata": {},
   "outputs": [],
   "source": [
    "test_prediction_acc = get_acc(resultsTest, testlabel)"
   ]
  },
  {
   "cell_type": "code",
   "execution_count": 49,
   "id": "fc2b39c3",
   "metadata": {},
   "outputs": [
    {
     "name": "stdout",
     "output_type": "stream",
     "text": [
      "Accuracy for triplet loss CNN on test data is 91.7%\n"
     ]
    }
   ],
   "source": [
    "print(\"Accuracy for triplet loss CNN on test data is {}%\".format(test_prediction_acc))"
   ]
  },
  {
   "cell_type": "code",
   "execution_count": 50,
   "id": "9286b285",
   "metadata": {},
   "outputs": [],
   "source": [
    "mix_prediction_acc = get_acc(resultsMix, mixY)"
   ]
  },
  {
   "cell_type": "code",
   "execution_count": 51,
   "id": "1a015215",
   "metadata": {},
   "outputs": [
    {
     "name": "stdout",
     "output_type": "stream",
     "text": [
      "Accuracy for triplet loss CNN on mixed data of trainig and test data is 95.0%\n"
     ]
    }
   ],
   "source": [
    "print(\"Accuracy for triplet loss CNN on mixed data of trainig and test data is {}%\".format(mix_prediction_acc))"
   ]
  },
  {
   "cell_type": "code",
   "execution_count": null,
   "id": "cb9c6165",
   "metadata": {},
   "outputs": [],
   "source": []
  }
 ],
 "metadata": {
  "kernelspec": {
   "display_name": "Python 3",
   "language": "python",
   "name": "python3"
  },
  "language_info": {
   "codemirror_mode": {
    "name": "ipython",
    "version": 3
   },
   "file_extension": ".py",
   "mimetype": "text/x-python",
   "name": "python",
   "nbconvert_exporter": "python",
   "pygments_lexer": "ipython3",
   "version": "3.9.7"
  }
 },
 "nbformat": 4,
 "nbformat_minor": 5
}
