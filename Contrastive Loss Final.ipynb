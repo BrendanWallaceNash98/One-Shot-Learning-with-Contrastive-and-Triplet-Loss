{
 "cells": [
  {
   "cell_type": "code",
   "execution_count": 1,
   "id": "0c546a28",
   "metadata": {},
   "outputs": [],
   "source": [
    "import pandas as pd\n",
    "import numpy as np\n",
    "import tensorflow as tf\n",
    "from tensorflow import keras\n",
    "import tensorflow_datasets as tfds\n",
    "import matplotlib as plt\n",
    "import random\n",
    "from sklearn.utils import shuffle\n",
    "import pickle"
   ]
  },
  {
   "cell_type": "code",
   "execution_count": 2,
   "id": "c644f0e4",
   "metadata": {},
   "outputs": [
    {
     "name": "stdout",
     "output_type": "stream",
     "text": [
      "Metal device set to: Apple M1 Pro\n"
     ]
    },
    {
     "name": "stderr",
     "output_type": "stream",
     "text": [
      "2022-05-12 11:15:07.603070: I tensorflow/core/common_runtime/pluggable_device/pluggable_device_factory.cc:305] Could not identify NUMA node of platform GPU ID 0, defaulting to 0. Your kernel may not have been built with NUMA support.\n",
      "2022-05-12 11:15:07.603159: I tensorflow/core/common_runtime/pluggable_device/pluggable_device_factory.cc:271] Created TensorFlow device (/job:localhost/replica:0/task:0/device:GPU:0 with 0 MB memory) -> physical PluggableDevice (device: 0, name: METAL, pci bus id: <undefined>)\n"
     ]
    },
    {
     "data": {
      "text/plain": [
       "tfds.core.DatasetInfo(\n",
       "    name='omniglot',\n",
       "    full_name='omniglot/3.0.0',\n",
       "    description=\"\"\"\n",
       "    Omniglot data set for one-shot learning. This dataset contains 1623 different\n",
       "    handwritten characters from 50 different alphabets.\n",
       "    \"\"\",\n",
       "    homepage='https://github.com/brendenlake/omniglot/',\n",
       "    data_path='/Users/brendanwallace-nash/tensorflow_datasets/omniglot/3.0.0',\n",
       "    download_size=17.95 MiB,\n",
       "    dataset_size=12.29 MiB,\n",
       "    features=FeaturesDict({\n",
       "        'alphabet': ClassLabel(shape=(), dtype=tf.int64, num_classes=50),\n",
       "        'alphabet_char_id': tf.int64,\n",
       "        'image': Image(shape=(105, 105, 3), dtype=tf.uint8),\n",
       "        'label': ClassLabel(shape=(), dtype=tf.int64, num_classes=1623),\n",
       "    }),\n",
       "    supervised_keys=('image', 'label'),\n",
       "    disable_shuffling=False,\n",
       "    splits={\n",
       "        'small1': <SplitInfo num_examples=2720, num_shards=1>,\n",
       "        'small2': <SplitInfo num_examples=3120, num_shards=1>,\n",
       "        'test': <SplitInfo num_examples=13180, num_shards=1>,\n",
       "        'train': <SplitInfo num_examples=19280, num_shards=1>,\n",
       "    },\n",
       "    citation=\"\"\"@article{lake2015human,\n",
       "      title={Human-level concept learning through probabilistic program induction},\n",
       "      author={Lake, Brenden M and Salakhutdinov, Ruslan and Tenenbaum, Joshua B},\n",
       "      journal={Science},\n",
       "      volume={350},\n",
       "      number={6266},\n",
       "      pages={1332--1338},\n",
       "      year={2015},\n",
       "      publisher={American Association for the Advancement of Science}\n",
       "    }\"\"\",\n",
       ")"
      ]
     },
     "execution_count": 2,
     "metadata": {},
     "output_type": "execute_result"
    }
   ],
   "source": [
    "ds, ds_info = tfds.load('omniglot', split=['train[:80%]','test'],with_info=True, as_supervised = False)\n",
    "ds_info"
   ]
  },
  {
   "cell_type": "code",
   "execution_count": 3,
   "id": "79b10374",
   "metadata": {},
   "outputs": [],
   "source": [
    "#test = pickle.load(open(\"TestDF_ds.pickle\", \"rb\"))\n",
    "#train = pickle.load(open(\"TrainDF_ds.pickle\", \"rb\"))"
   ]
  },
  {
   "cell_type": "code",
   "execution_count": 4,
   "id": "b4ede3b0",
   "metadata": {},
   "outputs": [],
   "source": [
    "#len(ds[0])"
   ]
  },
  {
   "cell_type": "code",
   "execution_count": 5,
   "id": "bf930254",
   "metadata": {},
   "outputs": [],
   "source": [
    "#len(ds[1])"
   ]
  },
  {
   "cell_type": "code",
   "execution_count": 6,
   "id": "acca36fd",
   "metadata": {},
   "outputs": [
    {
     "name": "stderr",
     "output_type": "stream",
     "text": [
      "2022-05-12 11:15:07.656505: W tensorflow/core/platform/profile_utils/cpu_utils.cc:128] Failed to get CPU frequency: 0 Hz\n"
     ]
    }
   ],
   "source": [
    "trainDF = tfds.as_dataframe(ds[0])\n",
    "testDF = tfds.as_dataframe(ds[1])"
   ]
  },
  {
   "cell_type": "code",
   "execution_count": 7,
   "id": "5376a6a2",
   "metadata": {},
   "outputs": [],
   "source": [
    "trainDF = trainDF[:8000]\n",
    "testDF = testDF[:2000]"
   ]
  },
  {
   "cell_type": "code",
   "execution_count": 8,
   "id": "b4bc17b4",
   "metadata": {},
   "outputs": [],
   "source": [
    "def make_positive_pairs(df):\n",
    "    \n",
    "    list_image = []    \n",
    "    pairList= []\n",
    "    \n",
    "    uniqueAlph = df['alphabet'].unique()\n",
    "    \n",
    "    for i in range(len(uniqueAlph)):\n",
    "        alphDF = df[df['alphabet'] == i]\n",
    "        charUnique = alphDF['alphabet_char_id'].unique()\n",
    "        for i in range(len(charUnique)):\n",
    "            dfImage = alphDF[alphDF['alphabet_char_id'] == charUnique[i]]\n",
    "            \n",
    "            imagedf = dfImage['image'].copy()\n",
    "            imageList = imagedf.values.tolist()\n",
    "            \n",
    "            \n",
    "            list_image.append(imageList[0])\n",
    "            \n",
    "        x = 0 \n",
    "        pair_list = []\n",
    "        pair_target = []\n",
    "        list_image2 = list_image.copy()\n",
    "        for i in range(len(list_image)):\n",
    "            for x in range(len(list_image)):\n",
    "                pair_list.append([list_image[i], list_image2[x]])\n",
    "                pair_target.append(1.0)\n",
    "                \n",
    "                \n",
    "        random.shuffle(pair_list)       \n",
    "        \n",
    "            \n",
    "            \n",
    "            \n",
    "    return pair_list, pair_target\n",
    "        "
   ]
  },
  {
   "cell_type": "code",
   "execution_count": 9,
   "id": "a23e0616",
   "metadata": {},
   "outputs": [],
   "source": [
    "def get_pairs(data):\n",
    "        \n",
    "    \n",
    "    df = data.sort_values(by=['alphabet'])\n",
    "    \n",
    "    df_pairs_1 = df[df.index % 2 != 0]\n",
    "    \n",
    "    df_pairs_2 = df[df.index % 2 != 1]\n",
    "    \n",
    "    df_pairs_1 = shuffle(df_pairs_1)\n",
    "    \n",
    "    imagedf = df_pairs_1['image'].copy()\n",
    "    imageList = imagedf.values.tolist()\n",
    "    \n",
    "    alphabetdf = df_pairs_1['alphabet'].copy()\n",
    "    alphabetList = alphabetdf.values.tolist()\n",
    "    \n",
    "    imagedf2 = df_pairs_2['image'].copy()\n",
    "    imageList2 = imagedf.values.tolist()\n",
    "    \n",
    "    alphabetdf2 = df_pairs_2['alphabet'].copy()\n",
    "    alphabetList2 = alphabetdf.values.tolist()\n",
    "    \n",
    "    imageList2 = shuffle(imageList2)\n",
    "    imageList = shuffle(imageList)\n",
    "    alphabetList = shuffle(alphabetList)\n",
    "    alphabetList2 = shuffle(alphabetList2)\n",
    "    \n",
    "    trainList = []\n",
    "    testList = []\n",
    "    \n",
    "    for i in range(len(alphabetList)):\n",
    "        loopList = []\n",
    "        pos = 1.0\n",
    "        neg = 0.0\n",
    "        if alphabetList[i] == alphabetList2[i]:\n",
    "            loopList.append(imageList[i].astype(float))\n",
    "            loopList.append(imageList2[i].astype(float))\n",
    "            testList.append(pos)\n",
    "            trainList.append(loopList)\n",
    "        else:\n",
    "            loopList.append(imageList[i].astype(float))\n",
    "            loopList.append(imageList2[i].astype(float))\n",
    "            testList.append(neg)\n",
    "            trainList.append(loopList)\n",
    "    \n",
    "    return trainList, testList"
   ]
  },
  {
   "cell_type": "code",
   "execution_count": 10,
   "id": "5315c3c0",
   "metadata": {},
   "outputs": [],
   "source": [
    "def count_neg_pairs(list_bin):\n",
    "    x = 1\n",
    "    count = []\n",
    "    for i in range(len(list_bin)):\n",
    "        if list_bin[i] == 0.0:\n",
    "            count.append(x)\n",
    "        else:\n",
    "            pass\n",
    "    print(len(count))"
   ]
  },
  {
   "cell_type": "code",
   "execution_count": 11,
   "id": "6306b4af",
   "metadata": {},
   "outputs": [],
   "source": [
    "def combine_pairs(train1, test1, train2, test2):\n",
    "    for i in range(len(train2)):\n",
    "        train1.append(train2[i])\n",
    "    \n",
    "    \n",
    "    for i in range(len(test2)):\n",
    "        test1.append(test2[i])\n",
    "    \n",
    "    shuffleList = list(zip(train1, test1))\n",
    "                       \n",
    "    random.shuffle(shuffleList)\n",
    "    \n",
    "    train1, test1 = zip(*shuffleList)\n",
    "                       \n",
    "    train1 = np.array(train1)\n",
    "    test1 = np.array(test1)\n",
    "    \n",
    "    train1/225\n",
    "\n",
    "    \n",
    "    return train1, test1"
   ]
  },
  {
   "cell_type": "code",
   "execution_count": 12,
   "id": "5e1ed6c4",
   "metadata": {},
   "outputs": [],
   "source": [
    "trainX, trainY = get_pairs(trainDF)"
   ]
  },
  {
   "cell_type": "code",
   "execution_count": 13,
   "id": "94137cac",
   "metadata": {},
   "outputs": [
    {
     "name": "stdout",
     "output_type": "stream",
     "text": [
      "3860\n"
     ]
    }
   ],
   "source": [
    "count_neg_pairs(trainY)"
   ]
  },
  {
   "cell_type": "code",
   "execution_count": 14,
   "id": "62fa0fec",
   "metadata": {},
   "outputs": [],
   "source": [
    "trainXPos, trainYPos = make_positive_pairs(trainDF)"
   ]
  },
  {
   "cell_type": "code",
   "execution_count": 15,
   "id": "42adf23a",
   "metadata": {},
   "outputs": [],
   "source": [
    "trainXPos = trainXPos[0:20000]"
   ]
  },
  {
   "cell_type": "code",
   "execution_count": 16,
   "id": "5ce60873",
   "metadata": {},
   "outputs": [],
   "source": [
    "trainYPos = trainYPos[0:20000]"
   ]
  },
  {
   "cell_type": "code",
   "execution_count": 17,
   "id": "a58b5d77",
   "metadata": {},
   "outputs": [],
   "source": [
    "trainXFinal, trainYFinal= combine_pairs(trainXPos, trainYPos, trainX, trainY)"
   ]
  },
  {
   "cell_type": "code",
   "execution_count": 18,
   "id": "048444e7",
   "metadata": {},
   "outputs": [
    {
     "data": {
      "text/plain": [
       "24000"
      ]
     },
     "execution_count": 18,
     "metadata": {},
     "output_type": "execute_result"
    }
   ],
   "source": [
    "len(trainYFinal)"
   ]
  },
  {
   "cell_type": "code",
   "execution_count": 19,
   "id": "59bd9a68",
   "metadata": {},
   "outputs": [
    {
     "data": {
      "text/plain": [
       "24000"
      ]
     },
     "execution_count": 19,
     "metadata": {},
     "output_type": "execute_result"
    }
   ],
   "source": [
    "len(trainXFinal)"
   ]
  },
  {
   "cell_type": "code",
   "execution_count": 20,
   "id": "0601c879",
   "metadata": {},
   "outputs": [],
   "source": [
    "#trainYFinal = trainYFinal.reshape(69640, 1)"
   ]
  },
  {
   "cell_type": "code",
   "execution_count": 21,
   "id": "8df45ff2",
   "metadata": {},
   "outputs": [
    {
     "name": "stdout",
     "output_type": "stream",
     "text": [
      "3860\n"
     ]
    }
   ],
   "source": [
    "count_neg_pairs(trainYFinal)"
   ]
  },
  {
   "cell_type": "markdown",
   "id": "dfea8ef3",
   "metadata": {},
   "source": [
    "test data preprocessing"
   ]
  },
  {
   "cell_type": "code",
   "execution_count": 22,
   "id": "ef66c28f",
   "metadata": {},
   "outputs": [],
   "source": [
    "testX, testY = get_pairs(testDF)"
   ]
  },
  {
   "cell_type": "code",
   "execution_count": 23,
   "id": "2414ab91",
   "metadata": {},
   "outputs": [
    {
     "name": "stdout",
     "output_type": "stream",
     "text": [
      "944\n"
     ]
    }
   ],
   "source": [
    "count_neg_pairs(testY)"
   ]
  },
  {
   "cell_type": "code",
   "execution_count": 24,
   "id": "342f2a55",
   "metadata": {},
   "outputs": [],
   "source": [
    "testXPos, testYPos = make_positive_pairs(testDF)"
   ]
  },
  {
   "cell_type": "code",
   "execution_count": 25,
   "id": "768ea728",
   "metadata": {},
   "outputs": [],
   "source": [
    "testXFinal, testYFinal= combine_pairs(testXPos, testYPos, testX, testY)"
   ]
  },
  {
   "cell_type": "code",
   "execution_count": 26,
   "id": "17a6ef9d",
   "metadata": {},
   "outputs": [],
   "source": [
    "temp = list(zip(testXFinal, testYFinal))\n",
    "random.shuffle(temp)\n",
    "testXFinal, testYFinal = zip(*temp)"
   ]
  },
  {
   "cell_type": "code",
   "execution_count": 27,
   "id": "9dc80b91",
   "metadata": {},
   "outputs": [],
   "source": [
    "testXFinal = testXFinal[:5000]\n",
    "testYFinal = testYFinal[:5000]"
   ]
  },
  {
   "cell_type": "code",
   "execution_count": 28,
   "id": "fd8c13cd",
   "metadata": {},
   "outputs": [
    {
     "data": {
      "text/plain": [
       "'\\nimport pickle\\npickle_out = open(\"trainXFinal.pickle\", \"wb\")\\npickle.dump(trainXFinal, pickle_out)\\npickle_out.close()\\n\\npickle_out = open(\"trainYPos.pickle\", \"wb\")\\npickle.dump(trainYPos, pickle_out)\\npickle_out.close()\\n\\npickle_out = open(\"testXFinal.pickle\", \"wb\")\\npickle.dump(testXFinal, pickle_out)\\npickle_out.close()\\n\\npickle_out = open(\"testYFinal.pickle\", \"wb\")\\npickle.dump(testYFinal, pickle_out)\\npickle_out.close()\\n\\n\\n'"
      ]
     },
     "execution_count": 28,
     "metadata": {},
     "output_type": "execute_result"
    }
   ],
   "source": [
    "'''\n",
    "import pickle\n",
    "pickle_out = open(\"trainXFinal.pickle\", \"wb\")\n",
    "pickle.dump(trainXFinal, pickle_out)\n",
    "pickle_out.close()\n",
    "\n",
    "pickle_out = open(\"trainYPos.pickle\", \"wb\")\n",
    "pickle.dump(trainYPos, pickle_out)\n",
    "pickle_out.close()\n",
    "\n",
    "pickle_out = open(\"testXFinal.pickle\", \"wb\")\n",
    "pickle.dump(testXFinal, pickle_out)\n",
    "pickle_out.close()\n",
    "\n",
    "pickle_out = open(\"testYFinal.pickle\", \"wb\")\n",
    "pickle.dump(testYFinal, pickle_out)\n",
    "pickle_out.close()\n",
    "\n",
    "\n",
    "'''"
   ]
  },
  {
   "cell_type": "code",
   "execution_count": 29,
   "id": "9c832224",
   "metadata": {},
   "outputs": [],
   "source": [
    "import pickle\n",
    "import numpy as np\n",
    "import pandas as pd\n",
    "import matplotlib.pyplot as plt\n",
    "import os\n",
    "import random\n",
    "#import wandb\n",
    "import tensorflow as tf\n",
    "#import tensorflow_addons as tfa\n",
    "from tensorflow import keras\n",
    "from tensorflow.keras import layers\n",
    "from tensorflow.keras.models import Sequential, Model\n",
    "from tensorflow.keras.layers import Dense, Dropout, Activation, Flatten, Conv2D, MaxPooling2D, Input, Lambda, Dot\n",
    "from tensorflow.keras.callbacks import TensorBoard\n",
    "from sklearn.model_selection import train_test_split"
   ]
  },
  {
   "cell_type": "code",
   "execution_count": 30,
   "id": "0fae90ce",
   "metadata": {},
   "outputs": [],
   "source": [
    "#X_train, X_test, y_train, y_test = train_test_split(trainXFinal, trainYFinal, test_size=0.20, random_state=42)\n"
   ]
  },
  {
   "cell_type": "code",
   "execution_count": 31,
   "id": "a95a5858",
   "metadata": {},
   "outputs": [],
   "source": [
    "lenX = round(len(trainXFinal)*0.20)\n",
    "lenY = round(len(trainYFinal)*0.20)\n",
    "X_train = trainXFinal[lenX:]\n",
    "X_test = trainYFinal[lenX:]\n",
    "y_train = trainXFinal[:lenY]\n",
    "y_test = trainYFinal[:lenY]"
   ]
  },
  {
   "cell_type": "code",
   "execution_count": 32,
   "id": "db403299",
   "metadata": {},
   "outputs": [
    {
     "data": {
      "text/plain": [
       "4800"
      ]
     },
     "execution_count": 32,
     "metadata": {},
     "output_type": "execute_result"
    }
   ],
   "source": [
    "len(y_train)"
   ]
  },
  {
   "cell_type": "code",
   "execution_count": 33,
   "id": "e19f0d5b",
   "metadata": {},
   "outputs": [],
   "source": [
    "epochs = 20\n",
    "batch_size = 128\n",
    "margin = 1  # Margin for constrastive loss."
   ]
  },
  {
   "cell_type": "code",
   "execution_count": 34,
   "id": "adfd6347",
   "metadata": {},
   "outputs": [],
   "source": [
    "# Provided two tensors t1 and t2\n",
    "# Euclidean distance = sqrt(sum(square(t1-t2)))\n",
    "def euclidean_distance(vects):\n",
    "    \"\"\"Find the Euclidean distance between two vectors.\n",
    "\n",
    "    Arguments:\n",
    "        vects: List containing two tensors of same length.\n",
    "\n",
    "    Returns:\n",
    "        Tensor containing euclidean distance\n",
    "        (as floating point value) between vectors.\n",
    "    \"\"\"\n",
    "\n",
    "    x, y = vects\n",
    "    sum_square = tf.math.reduce_sum(tf.math.square(x - y), axis=1, keepdims=True)\n",
    "    return tf.math.sqrt(tf.math.maximum(sum_square, tf.keras.backend.epsilon()))\n",
    "\n",
    "\n",
    "input = layers.Input((105, 105, 3))\n",
    "x = tf.keras.layers.BatchNormalization()(input)\n",
    "x = layers.Conv2D(16, (3, 3), activation=\"relu\")(x)\n",
    "x = layers.AveragePooling2D(pool_size=(2, 2))(x)\n",
    "x = layers.Conv2D(32, (3, 3), activation=\"relu\")(x)\n",
    "x = layers.AveragePooling2D(pool_size=(2, 2))(x)\n",
    "x = layers.Flatten()(x)\n",
    "\n",
    "x = tf.keras.layers.BatchNormalization()(x)\n",
    "x = layers.Dense(64, activation=\"tanh\")(x)\n",
    "embedding_network = keras.Model(input, x)\n",
    "\n",
    "\n",
    "input_1 = layers.Input((105, 105, 3))\n",
    "input_2 = layers.Input((105, 105, 3))\n",
    "\n",
    "# As mentioned above, Siamese Network share weights between\n",
    "# tower networks (sister networks). To allow this, we will use\n",
    "# same embedding network for both tower networks.\n",
    "tower_1 = embedding_network(input_1)\n",
    "tower_2 = embedding_network(input_2)\n",
    "\n",
    "merge_layer = layers.Lambda(euclidean_distance)([tower_1, tower_2])\n",
    "normal_layer = tf.keras.layers.BatchNormalization()(merge_layer)\n",
    "output_layer = layers.Dense(1, activation=\"sigmoid\")(normal_layer)\n",
    "siamese = keras.Model(inputs=[input_1, input_2], outputs=output_layer)"
   ]
  },
  {
   "cell_type": "code",
   "execution_count": 35,
   "id": "fbde25c9",
   "metadata": {},
   "outputs": [],
   "source": [
    "def loss(margin=1):\n",
    "    \"\"\"Provides 'constrastive_loss' an enclosing scope with variable 'margin'.\n",
    "\n",
    "  Arguments:\n",
    "      margin: Integer, defines the baseline for distance for which pairs\n",
    "              should be classified as dissimilar. - (default is 1).\n",
    "\n",
    "  Returns:\n",
    "      'constrastive_loss' function with data ('margin') attached.\n",
    "  \"\"\"\n",
    "\n",
    "    # Contrastive loss = mean( (1-true_value) * square(prediction) +\n",
    "    #                         true_value * square( max(margin-prediction, 0) ))\n",
    "    def contrastive_loss(y_true, y_pred):\n",
    "        \"\"\"Calculates the constrastive loss.\n",
    "\n",
    "      Arguments:\n",
    "          y_true: List of labels, each label is of type float32.\n",
    "          y_pred: List of predictions of same length as of y_true,\n",
    "                  each label is of type float32.\n",
    "\n",
    "      Returns:\n",
    "          A tensor containing constrastive loss as floating point value.\n",
    "      \"\"\"\n",
    "\n",
    "        square_pred = tf.math.square(y_pred)\n",
    "        margin_square = tf.math.square(tf.math.maximum(margin - (y_pred), 0))\n",
    "        return tf.math.reduce_mean(\n",
    "            (1 - y_true) * square_pred + (y_true) * margin_square\n",
    "        )\n",
    "\n",
    "    return contrastive_loss"
   ]
  },
  {
   "cell_type": "code",
   "execution_count": 36,
   "id": "a0b7e314",
   "metadata": {},
   "outputs": [
    {
     "name": "stdout",
     "output_type": "stream",
     "text": [
      "Model: \"model_1\"\n",
      "__________________________________________________________________________________________________\n",
      " Layer (type)                   Output Shape         Param #     Connected to                     \n",
      "==================================================================================================\n",
      " input_2 (InputLayer)           [(None, 105, 105, 3  0           []                               \n",
      "                                )]                                                                \n",
      "                                                                                                  \n",
      " input_3 (InputLayer)           [(None, 105, 105, 3  0           []                               \n",
      "                                )]                                                                \n",
      "                                                                                                  \n",
      " model (Functional)             (None, 64)           1258540     ['input_2[0][0]',                \n",
      "                                                                  'input_3[0][0]']                \n",
      "                                                                                                  \n",
      " lambda (Lambda)                (None, 1)            0           ['model[0][0]',                  \n",
      "                                                                  'model[1][0]']                  \n",
      "                                                                                                  \n",
      " batch_normalization_2 (BatchNo  (None, 1)           4           ['lambda[0][0]']                 \n",
      " rmalization)                                                                                     \n",
      "                                                                                                  \n",
      " dense_1 (Dense)                (None, 1)            2           ['batch_normalization_2[0][0]']  \n",
      "                                                                                                  \n",
      "==================================================================================================\n",
      "Total params: 1,258,546\n",
      "Trainable params: 1,221,674\n",
      "Non-trainable params: 36,872\n",
      "__________________________________________________________________________________________________\n"
     ]
    }
   ],
   "source": [
    "siamese.compile(loss=loss(margin=margin), optimizer=\"Adam\", metrics=[\"accuracy\"])\n",
    "siamese.summary()"
   ]
  },
  {
   "cell_type": "code",
   "execution_count": 37,
   "id": "352212f3",
   "metadata": {},
   "outputs": [
    {
     "name": "stdout",
     "output_type": "stream",
     "text": [
      "Epoch 1/20\n"
     ]
    },
    {
     "name": "stderr",
     "output_type": "stream",
     "text": [
      "2022-05-12 11:15:42.628978: I tensorflow/core/grappler/optimizers/custom_graph_optimizer_registry.cc:112] Plugin optimizer for device_type GPU is enabled.\n"
     ]
    },
    {
     "name": "stdout",
     "output_type": "stream",
     "text": [
      "150/150 [==============================] - ETA: 0s - loss: 0.2435 - accuracy: 0.5633"
     ]
    },
    {
     "name": "stderr",
     "output_type": "stream",
     "text": [
      "2022-05-12 11:15:56.368166: I tensorflow/core/grappler/optimizers/custom_graph_optimizer_registry.cc:112] Plugin optimizer for device_type GPU is enabled.\n"
     ]
    },
    {
     "name": "stdout",
     "output_type": "stream",
     "text": [
      "150/150 [==============================] - 15s 90ms/step - loss: 0.2435 - accuracy: 0.5633 - val_loss: 0.2940 - val_accuracy: 0.3713\n",
      "Epoch 2/20\n",
      "150/150 [==============================] - 12s 77ms/step - loss: 0.1908 - accuracy: 0.7688 - val_loss: 0.1550 - val_accuracy: 0.8273\n",
      "Epoch 3/20\n",
      "150/150 [==============================] - 11s 77ms/step - loss: 0.1381 - accuracy: 0.8921 - val_loss: 0.1652 - val_accuracy: 0.7971\n",
      "Epoch 4/20\n",
      "150/150 [==============================] - 12s 77ms/step - loss: 0.0983 - accuracy: 0.9349 - val_loss: 0.1202 - val_accuracy: 0.8631\n",
      "Epoch 5/20\n",
      "150/150 [==============================] - 11s 76ms/step - loss: 0.0709 - accuracy: 0.9558 - val_loss: 0.1134 - val_accuracy: 0.8598\n",
      "Epoch 6/20\n",
      "150/150 [==============================] - 11s 76ms/step - loss: 0.0521 - accuracy: 0.9702 - val_loss: 0.0967 - val_accuracy: 0.8810\n",
      "Epoch 7/20\n",
      "150/150 [==============================] - 11s 77ms/step - loss: 0.0371 - accuracy: 0.9810 - val_loss: 0.1009 - val_accuracy: 0.8698\n",
      "Epoch 8/20\n",
      "150/150 [==============================] - 11s 77ms/step - loss: 0.0276 - accuracy: 0.9882 - val_loss: 0.0961 - val_accuracy: 0.8748\n",
      "Epoch 9/20\n",
      "150/150 [==============================] - 11s 76ms/step - loss: 0.0207 - accuracy: 0.9914 - val_loss: 0.0944 - val_accuracy: 0.8752\n",
      "Epoch 10/20\n",
      "150/150 [==============================] - 11s 76ms/step - loss: 0.0160 - accuracy: 0.9950 - val_loss: 0.0902 - val_accuracy: 0.8856\n",
      "Epoch 11/20\n",
      "150/150 [==============================] - 11s 76ms/step - loss: 0.0127 - accuracy: 0.9960 - val_loss: 0.0881 - val_accuracy: 0.8881\n",
      "Epoch 12/20\n",
      "150/150 [==============================] - 11s 76ms/step - loss: 0.0101 - accuracy: 0.9969 - val_loss: 0.0861 - val_accuracy: 0.8865\n",
      "Epoch 13/20\n",
      "150/150 [==============================] - 11s 77ms/step - loss: 0.0085 - accuracy: 0.9973 - val_loss: 0.0928 - val_accuracy: 0.8792\n",
      "Epoch 14/20\n",
      "150/150 [==============================] - 12s 77ms/step - loss: 0.0076 - accuracy: 0.9976 - val_loss: 0.0923 - val_accuracy: 0.8790\n",
      "Epoch 15/20\n",
      "150/150 [==============================] - 11s 76ms/step - loss: 0.0066 - accuracy: 0.9977 - val_loss: 0.0929 - val_accuracy: 0.8806\n",
      "Epoch 16/20\n",
      "150/150 [==============================] - 12s 77ms/step - loss: 0.0064 - accuracy: 0.9979 - val_loss: 0.0962 - val_accuracy: 0.8756\n",
      "Epoch 17/20\n",
      "150/150 [==============================] - 11s 77ms/step - loss: 0.0061 - accuracy: 0.9977 - val_loss: 0.0962 - val_accuracy: 0.8788\n",
      "Epoch 18/20\n",
      "150/150 [==============================] - 12s 77ms/step - loss: 0.0062 - accuracy: 0.9971 - val_loss: 0.0967 - val_accuracy: 0.8754\n",
      "Epoch 19/20\n",
      "150/150 [==============================] - 11s 76ms/step - loss: 0.0085 - accuracy: 0.9940 - val_loss: 0.1074 - val_accuracy: 0.8654\n",
      "Epoch 20/20\n",
      "150/150 [==============================] - 12s 77ms/step - loss: 0.0204 - accuracy: 0.9761 - val_loss: 0.1400 - val_accuracy: 0.8288\n"
     ]
    }
   ],
   "source": [
    "history = siamese.fit(\n",
    "    [X_train[:,0], X_train[:,1]],\n",
    "    X_test[:],\n",
    "    validation_data=([y_train[:,0], y_train[:,1]], y_test[:]),\n",
    "    batch_size=batch_size,\n",
    "    epochs=epochs,\n",
    ")"
   ]
  },
  {
   "cell_type": "code",
   "execution_count": 38,
   "id": "17c85ee3",
   "metadata": {},
   "outputs": [],
   "source": [
    "y_train[0][0] = y_train[0][0].reshape(-1, 105, 105, 3)"
   ]
  },
  {
   "cell_type": "code",
   "execution_count": 39,
   "id": "aeacf2b1",
   "metadata": {},
   "outputs": [],
   "source": [
    "y_train[0][1] = y_train[0][1].reshape(-1, 105, 105, 3)"
   ]
  },
  {
   "cell_type": "code",
   "execution_count": 40,
   "id": "d31fa19a",
   "metadata": {},
   "outputs": [
    {
     "name": "stderr",
     "output_type": "stream",
     "text": [
      "2022-05-12 11:19:36.297203: I tensorflow/core/grappler/optimizers/custom_graph_optimizer_registry.cc:112] Plugin optimizer for device_type GPU is enabled.\n"
     ]
    }
   ],
   "source": [
    "prediction = siamese.predict([y_train[:, 0].reshape(-1, 105, 105, 3), y_train[:, 1].reshape(-1, 105, 105, 3)])"
   ]
  },
  {
   "cell_type": "code",
   "execution_count": 41,
   "id": "90e0b7c0",
   "metadata": {},
   "outputs": [],
   "source": [
    "def get_result(X_value, y_value):\n",
    "    predictions = []\n",
    "    counts = 0\n",
    "    for i in range(len(X_value)):\n",
    "        prediction = siamese.predict([X_value[i][0].reshape(-1, 105, 105, 3), X_value[i][1].reshape(-1, 105, 105, 3)])\n",
    "        if prediction > 0.5:\n",
    "            predictions.append(1)\n",
    "        else:\n",
    "            predictions.append(0)\n",
    "    for i in range(len(X_value)):\n",
    "        if predictions[i] == y_value[i]:\n",
    "            counts = counts+1\n",
    "    accuracy = (counts/len(X_value))*100\n",
    "    return accuracy"
   ]
  },
  {
   "cell_type": "code",
   "execution_count": 42,
   "id": "07ba0ffb",
   "metadata": {},
   "outputs": [
    {
     "name": "stderr",
     "output_type": "stream",
     "text": [
      "2022-05-12 11:19:37.593898: I tensorflow/core/grappler/optimizers/custom_graph_optimizer_registry.cc:112] Plugin optimizer for device_type GPU is enabled.\n"
     ]
    }
   ],
   "source": [
    "test_acc = get_result(testXFinal, testYFinal)"
   ]
  },
  {
   "cell_type": "code",
   "execution_count": 44,
   "id": "4ce3dcb7",
   "metadata": {},
   "outputs": [],
   "source": [
    "train_acc = get_result(trainXFinal, trainYFinal)"
   ]
  },
  {
   "cell_type": "code",
   "execution_count": 47,
   "id": "53fdf783",
   "metadata": {},
   "outputs": [
    {
     "name": "stdout",
     "output_type": "stream",
     "text": [
      "train accuracy is 90.73333333333333%\n"
     ]
    }
   ],
   "source": [
    "print(\"train accuracy is {}%\".format(train_acc))"
   ]
  },
  {
   "cell_type": "code",
   "execution_count": 48,
   "id": "196634de",
   "metadata": {},
   "outputs": [
    {
     "name": "stdout",
     "output_type": "stream",
     "text": [
      "test accuracy is 81.74%\n"
     ]
    }
   ],
   "source": [
    "print(\"test accuracy is {}%\".format(test_acc))"
   ]
  },
  {
   "cell_type": "code",
   "execution_count": 50,
   "id": "3954d36c",
   "metadata": {},
   "outputs": [
    {
     "data": {
      "image/png": "[encoded data removed]",
      "text/plain": [
       "<Figure size 432x288 with 1 Axes>"
      ]
     },
     "metadata": {
      "needs_background": "light"
     },
     "output_type": "display_data"
    }
   ],
   "source": [
    "#valadation loss over epochs\n",
    "plt.plot(history.history['val_loss'], label='Validation Loss')\n",
    "plt.grid(True)\n",
    "plt.show()"
   ]
  },
  {
   "cell_type": "code",
   "execution_count": 51,
   "id": "1821521f",
   "metadata": {},
   "outputs": [
    {
     "data": {
      "image/png": "[encoded data removed]",
      "text/plain": [
       "<Figure size 432x288 with 1 Axes>"
      ]
     },
     "metadata": {
      "needs_background": "light"
     },
     "output_type": "display_data"
    }
   ],
   "source": [
    "#Loss over epochs \n",
    "plt.plot(history.history['loss'], label='Loss')\n",
    "plt.grid(True)\n",
    "plt.show()"
   ]
  },
  {
   "cell_type": "code",
   "execution_count": null,
   "id": "e904e282",
   "metadata": {},
   "outputs": [],
   "source": []
  }
 ],
 "metadata": {
  "kernelspec": {
   "display_name": "Python 3 (ipykernel)",
   "language": "python",
   "name": "python3"
  },
  "language_info": {
   "codemirror_mode": {
    "name": "ipython",
    "version": 3
   },
   "file_extension": ".py",
   "mimetype": "text/x-python",
   "name": "python",
   "nbconvert_exporter": "python",
   "pygments_lexer": "ipython3",
   "version": "3.9.9"
  }
 },
 "nbformat": 4,
 "nbformat_minor": 5
}
